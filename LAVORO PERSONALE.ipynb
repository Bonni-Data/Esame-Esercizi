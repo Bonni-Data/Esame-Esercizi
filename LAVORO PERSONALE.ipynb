{
 "cells": [
  {
   "cell_type": "code",
   "execution_count": 2,
   "metadata": {},
   "outputs": [],
   "source": [
    "import numpy as np\n",
    "import pandas as pd\n",
    "%matplotlib inline\n",
    "import seaborn; seaborn.set()\n",
    "import seaborn as sns"
   ]
  },
  {
   "cell_type": "code",
   "execution_count": 3,
   "metadata": {},
   "outputs": [],
   "source": [
    "data= pd.read_csv(r\"C:\\Users\\andre\\CSV\\verde-urbano-totale.csv\", sep= \";\")"
   ]
  },
  {
   "cell_type": "markdown",
   "metadata": {},
   "source": [
    "# VERDE URBANO MILANO"
   ]
  },
  {
   "cell_type": "code",
   "execution_count": 4,
   "metadata": {},
   "outputs": [
    {
     "data": {
      "text/html": [
       "<div>\n",
       "<style scoped>\n",
       "    .dataframe tbody tr th:only-of-type {\n",
       "        vertical-align: middle;\n",
       "    }\n",
       "\n",
       "    .dataframe tbody tr th {\n",
       "        vertical-align: top;\n",
       "    }\n",
       "\n",
       "    .dataframe thead th {\n",
       "        text-align: right;\n",
       "    }\n",
       "</style>\n",
       "<table border=\"1\" class=\"dataframe\">\n",
       "  <thead>\n",
       "    <tr style=\"text-align: right;\">\n",
       "      <th></th>\n",
       "      <th>Tipo gestione</th>\n",
       "      <th>Tipologia di Area (valore in MQ)</th>\n",
       "      <th>Metri Quadri</th>\n",
       "    </tr>\n",
       "  </thead>\n",
       "  <tbody>\n",
       "    <tr>\n",
       "      <th>0</th>\n",
       "      <td>Gestione Comunale</td>\n",
       "      <td>Aree naturali protette</td>\n",
       "      <td>211938</td>\n",
       "    </tr>\n",
       "    <tr>\n",
       "      <th>1</th>\n",
       "      <td>Gestione Comunale</td>\n",
       "      <td>Ville giardini e parchi</td>\n",
       "      <td>5072198</td>\n",
       "    </tr>\n",
       "    <tr>\n",
       "      <th>2</th>\n",
       "      <td>Gestione Comunale</td>\n",
       "      <td>Parchi (giardini e ville) urbani</td>\n",
       "      <td>32958248</td>\n",
       "    </tr>\n",
       "    <tr>\n",
       "      <th>3</th>\n",
       "      <td>Gestione Comunale</td>\n",
       "      <td>Verde attrezzato</td>\n",
       "      <td>35534149</td>\n",
       "    </tr>\n",
       "    <tr>\n",
       "      <th>4</th>\n",
       "      <td>Gestione Comunale</td>\n",
       "      <td>Aree di arredo urbano</td>\n",
       "      <td>20206876</td>\n",
       "    </tr>\n",
       "    <tr>\n",
       "      <th>5</th>\n",
       "      <td>Gestione Comunale</td>\n",
       "      <td>Forestazione urbana</td>\n",
       "      <td>140313</td>\n",
       "    </tr>\n",
       "    <tr>\n",
       "      <th>6</th>\n",
       "      <td>Gestione Comunale</td>\n",
       "      <td>Giardini scolastici comunali</td>\n",
       "      <td>8181393</td>\n",
       "    </tr>\n",
       "    <tr>\n",
       "      <th>7</th>\n",
       "      <td>Gestione Comunale</td>\n",
       "      <td>Orti botanici</td>\n",
       "      <td>278214</td>\n",
       "    </tr>\n",
       "    <tr>\n",
       "      <th>8</th>\n",
       "      <td>Gestione Comunale</td>\n",
       "      <td>Orti urbani</td>\n",
       "      <td>22927</td>\n",
       "    </tr>\n",
       "    <tr>\n",
       "      <th>9</th>\n",
       "      <td>Gestione Comunale</td>\n",
       "      <td>Cimiteri</td>\n",
       "      <td>3743688</td>\n",
       "    </tr>\n",
       "    <tr>\n",
       "      <th>10</th>\n",
       "      <td>Gestione Comunale</td>\n",
       "      <td>Aree all'aperto sportive e a servizio ludico r...</td>\n",
       "      <td>415711</td>\n",
       "    </tr>\n",
       "    <tr>\n",
       "      <th>11</th>\n",
       "      <td>Gestione Comunale</td>\n",
       "      <td>Altre tipologie di verde urbano</td>\n",
       "      <td>2245368</td>\n",
       "    </tr>\n",
       "    <tr>\n",
       "      <th>12</th>\n",
       "      <td>Gestione di altri enti pubblici</td>\n",
       "      <td>Aree naturali protette</td>\n",
       "      <td>0</td>\n",
       "    </tr>\n",
       "    <tr>\n",
       "      <th>13</th>\n",
       "      <td>Gestione di altri enti pubblici</td>\n",
       "      <td>Ville giardini e parchi</td>\n",
       "      <td>59514</td>\n",
       "    </tr>\n",
       "    <tr>\n",
       "      <th>14</th>\n",
       "      <td>Gestione di altri enti pubblici</td>\n",
       "      <td>Parchi (giardini e ville) urbani</td>\n",
       "      <td>23663528</td>\n",
       "    </tr>\n",
       "    <tr>\n",
       "      <th>15</th>\n",
       "      <td>Gestione di altri enti pubblici</td>\n",
       "      <td>Verde attrezzato</td>\n",
       "      <td>2297075</td>\n",
       "    </tr>\n",
       "    <tr>\n",
       "      <th>16</th>\n",
       "      <td>Gestione di altri enti pubblici</td>\n",
       "      <td>Aree di arredo urbano</td>\n",
       "      <td>549971</td>\n",
       "    </tr>\n",
       "    <tr>\n",
       "      <th>17</th>\n",
       "      <td>Gestione di altri enti pubblici</td>\n",
       "      <td>Forestazione urbana</td>\n",
       "      <td>701562</td>\n",
       "    </tr>\n",
       "    <tr>\n",
       "      <th>18</th>\n",
       "      <td>Gestione di altri enti pubblici</td>\n",
       "      <td>Giardini scolastici comunali</td>\n",
       "      <td>125698</td>\n",
       "    </tr>\n",
       "    <tr>\n",
       "      <th>19</th>\n",
       "      <td>Gestione di altri enti pubblici</td>\n",
       "      <td>Orti botanici</td>\n",
       "      <td>0</td>\n",
       "    </tr>\n",
       "    <tr>\n",
       "      <th>20</th>\n",
       "      <td>Gestione di altri enti pubblici</td>\n",
       "      <td>Orti urbani</td>\n",
       "      <td>313255</td>\n",
       "    </tr>\n",
       "    <tr>\n",
       "      <th>21</th>\n",
       "      <td>Gestione di altri enti pubblici</td>\n",
       "      <td>Cimiteri</td>\n",
       "      <td>0</td>\n",
       "    </tr>\n",
       "    <tr>\n",
       "      <th>22</th>\n",
       "      <td>Gestione di altri enti pubblici</td>\n",
       "      <td>Aree all'aperto sportive e a servizio ludico r...</td>\n",
       "      <td>138058</td>\n",
       "    </tr>\n",
       "    <tr>\n",
       "      <th>23</th>\n",
       "      <td>Gestione di altri enti pubblici</td>\n",
       "      <td>Altre tipologie di verde urbano</td>\n",
       "      <td>530344</td>\n",
       "    </tr>\n",
       "  </tbody>\n",
       "</table>\n",
       "</div>"
      ],
      "text/plain": [
       "                      Tipo gestione  \\\n",
       "0                 Gestione Comunale   \n",
       "1                 Gestione Comunale   \n",
       "2                 Gestione Comunale   \n",
       "3                 Gestione Comunale   \n",
       "4                 Gestione Comunale   \n",
       "5                 Gestione Comunale   \n",
       "6                 Gestione Comunale   \n",
       "7                 Gestione Comunale   \n",
       "8                 Gestione Comunale   \n",
       "9                 Gestione Comunale   \n",
       "10                Gestione Comunale   \n",
       "11                Gestione Comunale   \n",
       "12  Gestione di altri enti pubblici   \n",
       "13  Gestione di altri enti pubblici   \n",
       "14  Gestione di altri enti pubblici   \n",
       "15  Gestione di altri enti pubblici   \n",
       "16  Gestione di altri enti pubblici   \n",
       "17  Gestione di altri enti pubblici   \n",
       "18  Gestione di altri enti pubblici   \n",
       "19  Gestione di altri enti pubblici   \n",
       "20  Gestione di altri enti pubblici   \n",
       "21  Gestione di altri enti pubblici   \n",
       "22  Gestione di altri enti pubblici   \n",
       "23  Gestione di altri enti pubblici   \n",
       "\n",
       "                     Tipologia di Area (valore in MQ)  Metri Quadri  \n",
       "0                              Aree naturali protette        211938  \n",
       "1                             Ville giardini e parchi       5072198  \n",
       "2                    Parchi (giardini e ville) urbani      32958248  \n",
       "3                                    Verde attrezzato      35534149  \n",
       "4                               Aree di arredo urbano      20206876  \n",
       "5                                 Forestazione urbana        140313  \n",
       "6                       Giardini scolastici comunali        8181393  \n",
       "7                                       Orti botanici        278214  \n",
       "8                                         Orti urbani         22927  \n",
       "9                                            Cimiteri       3743688  \n",
       "10  Aree all'aperto sportive e a servizio ludico r...        415711  \n",
       "11                    Altre tipologie di verde urbano       2245368  \n",
       "12                             Aree naturali protette             0  \n",
       "13                            Ville giardini e parchi         59514  \n",
       "14                   Parchi (giardini e ville) urbani      23663528  \n",
       "15                                   Verde attrezzato       2297075  \n",
       "16                              Aree di arredo urbano        549971  \n",
       "17                                Forestazione urbana        701562  \n",
       "18                      Giardini scolastici comunali         125698  \n",
       "19                                      Orti botanici             0  \n",
       "20                                        Orti urbani        313255  \n",
       "21                                           Cimiteri             0  \n",
       "22  Aree all'aperto sportive e a servizio ludico r...        138058  \n",
       "23                    Altre tipologie di verde urbano        530344  "
      ]
     },
     "execution_count": 4,
     "metadata": {},
     "output_type": "execute_result"
    }
   ],
   "source": [
    "data"
   ]
  },
  {
   "cell_type": "markdown",
   "metadata": {},
   "source": [
    "# Obbiettivi della ricerca\n",
    "## Definire: \n",
    "\n",
    "### 1) Rinominare colonne a piacimento\n",
    "### 2) Media e Totale superficie del verde urbano milanese, totale comunale e altri enti\n",
    "### 3) Filtrare righe con \"urbani\"\n",
    "### 4) Estrai righe con almeno 1.000.000 di mq2 di superficie\n",
    "### 5) Verifica la presenza di \"nan\"\n",
    "### 6) Visualizza plot con dati di almeno 1.000.000 di mq2 di superficie\n",
    "### 7) Modifica il plot a piacimento"
   ]
  },
  {
   "cell_type": "code",
   "execution_count": 5,
   "metadata": {},
   "outputs": [
    {
     "name": "stdout",
     "output_type": "stream",
     "text": [
      "['Gestione', 'Tipo Area', 'MQ']\n"
     ]
    }
   ],
   "source": [
    "#esercizio1\n",
    "data1= data.columns = ['Gestione','Tipo Area','MQ']\n",
    "print(data1)"
   ]
  },
  {
   "cell_type": "code",
   "execution_count": 6,
   "metadata": {},
   "outputs": [
    {
     "name": "stdout",
     "output_type": "stream",
     "text": [
      "                           Gestione  \\\n",
      "0                 Gestione Comunale   \n",
      "1                 Gestione Comunale   \n",
      "2                 Gestione Comunale   \n",
      "3                 Gestione Comunale   \n",
      "4                 Gestione Comunale   \n",
      "5                 Gestione Comunale   \n",
      "6                 Gestione Comunale   \n",
      "7                 Gestione Comunale   \n",
      "8                 Gestione Comunale   \n",
      "9                 Gestione Comunale   \n",
      "10                Gestione Comunale   \n",
      "11                Gestione Comunale   \n",
      "12  Gestione di altri enti pubblici   \n",
      "13  Gestione di altri enti pubblici   \n",
      "14  Gestione di altri enti pubblici   \n",
      "15  Gestione di altri enti pubblici   \n",
      "16  Gestione di altri enti pubblici   \n",
      "17  Gestione di altri enti pubblici   \n",
      "18  Gestione di altri enti pubblici   \n",
      "19  Gestione di altri enti pubblici   \n",
      "20  Gestione di altri enti pubblici   \n",
      "21  Gestione di altri enti pubblici   \n",
      "22  Gestione di altri enti pubblici   \n",
      "23  Gestione di altri enti pubblici   \n",
      "\n",
      "                                            Tipo Area        MQ  \n",
      "0                              Aree naturali protette    211938  \n",
      "1                             Ville giardini e parchi   5072198  \n",
      "2                    Parchi (giardini e ville) urbani  32958248  \n",
      "3                                    Verde attrezzato  35534149  \n",
      "4                               Aree di arredo urbano  20206876  \n",
      "5                                 Forestazione urbana    140313  \n",
      "6                       Giardini scolastici comunali    8181393  \n",
      "7                                       Orti botanici    278214  \n",
      "8                                         Orti urbani     22927  \n",
      "9                                            Cimiteri   3743688  \n",
      "10  Aree all'aperto sportive e a servizio ludico r...    415711  \n",
      "11                    Altre tipologie di verde urbano   2245368  \n",
      "12                             Aree naturali protette         0  \n",
      "13                            Ville giardini e parchi     59514  \n",
      "14                   Parchi (giardini e ville) urbani  23663528  \n",
      "15                                   Verde attrezzato   2297075  \n",
      "16                              Aree di arredo urbano    549971  \n",
      "17                                Forestazione urbana    701562  \n",
      "18                      Giardini scolastici comunali     125698  \n",
      "19                                      Orti botanici         0  \n",
      "20                                        Orti urbani    313255  \n",
      "21                                           Cimiteri         0  \n",
      "22  Aree all'aperto sportive e a servizio ludico r...    138058  \n",
      "23                    Altre tipologie di verde urbano    530344  \n"
     ]
    }
   ],
   "source": [
    "print (data)"
   ]
  },
  {
   "cell_type": "code",
   "execution_count": 7,
   "metadata": {},
   "outputs": [
    {
     "data": {
      "text/plain": [
       "MQ    5724584.5\n",
       "dtype: float64"
      ]
     },
     "execution_count": 7,
     "metadata": {},
     "output_type": "execute_result"
    }
   ],
   "source": [
    "#2.1 media e totale aree verdi\n",
    "data.mean()"
   ]
  },
  {
   "cell_type": "code",
   "execution_count": 8,
   "metadata": {},
   "outputs": [
    {
     "data": {
      "text/plain": [
       "Gestione     Gestione ComunaleGestione ComunaleGestione Com...\n",
       "Tipo Area    Aree naturali protetteVille giardini e parchiP...\n",
       "MQ                                                   137390028\n",
       "dtype: object"
      ]
     },
     "execution_count": 8,
     "metadata": {},
     "output_type": "execute_result"
    }
   ],
   "source": [
    "data.sum()"
   ]
  },
  {
   "cell_type": "code",
   "execution_count": 9,
   "metadata": {},
   "outputs": [
    {
     "name": "stdout",
     "output_type": "stream",
     "text": [
      "             Gestione                                          Tipo Area  \\\n",
      "0   Gestione Comunale                             Aree naturali protette   \n",
      "1   Gestione Comunale                            Ville giardini e parchi   \n",
      "2   Gestione Comunale                   Parchi (giardini e ville) urbani   \n",
      "3   Gestione Comunale                                   Verde attrezzato   \n",
      "4   Gestione Comunale                              Aree di arredo urbano   \n",
      "5   Gestione Comunale                                Forestazione urbana   \n",
      "6   Gestione Comunale                      Giardini scolastici comunali    \n",
      "7   Gestione Comunale                                      Orti botanici   \n",
      "8   Gestione Comunale                                        Orti urbani   \n",
      "9   Gestione Comunale                                           Cimiteri   \n",
      "10  Gestione Comunale  Aree all'aperto sportive e a servizio ludico r...   \n",
      "11  Gestione Comunale                    Altre tipologie di verde urbano   \n",
      "\n",
      "          MQ  \n",
      "0     211938  \n",
      "1    5072198  \n",
      "2   32958248  \n",
      "3   35534149  \n",
      "4   20206876  \n",
      "5     140313  \n",
      "6    8181393  \n",
      "7     278214  \n",
      "8      22927  \n",
      "9    3743688  \n",
      "10    415711  \n",
      "11   2245368  \n"
     ]
    }
   ],
   "source": [
    "comune= data.iloc[0:12]\n",
    "print(comune)"
   ]
  },
  {
   "cell_type": "code",
   "execution_count": 10,
   "metadata": {},
   "outputs": [
    {
     "data": {
      "text/plain": [
       "Gestione     Gestione ComunaleGestione ComunaleGestione Com...\n",
       "Tipo Area    Aree naturali protetteVille giardini e parchiP...\n",
       "MQ                                                   109011023\n",
       "dtype: object"
      ]
     },
     "execution_count": 10,
     "metadata": {},
     "output_type": "execute_result"
    }
   ],
   "source": [
    "comune.sum()"
   ]
  },
  {
   "cell_type": "code",
   "execution_count": 11,
   "metadata": {},
   "outputs": [
    {
     "data": {
      "text/plain": [
       "Gestione     Gestione di altri enti pubbliciGestione di alt...\n",
       "Tipo Area    Aree naturali protetteVille giardini e parchiP...\n",
       "MQ                                                    28379005\n",
       "dtype: object"
      ]
     },
     "execution_count": 11,
     "metadata": {},
     "output_type": "execute_result"
    }
   ],
   "source": [
    "enti= data.iloc[12:24]\n",
    "enti.sum()"
   ]
  },
  {
   "cell_type": "code",
   "execution_count": 12,
   "metadata": {},
   "outputs": [
    {
     "data": {
      "text/html": [
       "<div>\n",
       "<style scoped>\n",
       "    .dataframe tbody tr th:only-of-type {\n",
       "        vertical-align: middle;\n",
       "    }\n",
       "\n",
       "    .dataframe tbody tr th {\n",
       "        vertical-align: top;\n",
       "    }\n",
       "\n",
       "    .dataframe thead th {\n",
       "        text-align: right;\n",
       "    }\n",
       "</style>\n",
       "<table border=\"1\" class=\"dataframe\">\n",
       "  <thead>\n",
       "    <tr style=\"text-align: right;\">\n",
       "      <th></th>\n",
       "      <th>Gestione</th>\n",
       "      <th>Tipo Area</th>\n",
       "      <th>MQ</th>\n",
       "    </tr>\n",
       "  </thead>\n",
       "  <tbody>\n",
       "    <tr>\n",
       "      <th>2</th>\n",
       "      <td>Gestione Comunale</td>\n",
       "      <td>Parchi (giardini e ville) urbani</td>\n",
       "      <td>32958248</td>\n",
       "    </tr>\n",
       "    <tr>\n",
       "      <th>8</th>\n",
       "      <td>Gestione Comunale</td>\n",
       "      <td>Orti urbani</td>\n",
       "      <td>22927</td>\n",
       "    </tr>\n",
       "    <tr>\n",
       "      <th>14</th>\n",
       "      <td>Gestione di altri enti pubblici</td>\n",
       "      <td>Parchi (giardini e ville) urbani</td>\n",
       "      <td>23663528</td>\n",
       "    </tr>\n",
       "    <tr>\n",
       "      <th>20</th>\n",
       "      <td>Gestione di altri enti pubblici</td>\n",
       "      <td>Orti urbani</td>\n",
       "      <td>313255</td>\n",
       "    </tr>\n",
       "  </tbody>\n",
       "</table>\n",
       "</div>"
      ],
      "text/plain": [
       "                           Gestione                         Tipo Area  \\\n",
       "2                 Gestione Comunale  Parchi (giardini e ville) urbani   \n",
       "8                 Gestione Comunale                       Orti urbani   \n",
       "14  Gestione di altri enti pubblici  Parchi (giardini e ville) urbani   \n",
       "20  Gestione di altri enti pubblici                       Orti urbani   \n",
       "\n",
       "          MQ  \n",
       "2   32958248  \n",
       "8      22927  \n",
       "14  23663528  \n",
       "20    313255  "
      ]
     },
     "execution_count": 12,
     "metadata": {},
     "output_type": "execute_result"
    }
   ],
   "source": [
    "#esercizi 3\n",
    "#filtra righe con \"urbani\"\n",
    "data.loc[data[\"Tipo Area\"].str.contains(\"urbani\")]"
   ]
  },
  {
   "cell_type": "code",
   "execution_count": 13,
   "metadata": {},
   "outputs": [],
   "source": [
    "#4 Estrai righe con almeno 1.000.000 di mq2 di superficie\n",
    "terreni=data.loc[data[\"MQ\"]>= 1000000]"
   ]
  },
  {
   "cell_type": "code",
   "execution_count": 14,
   "metadata": {},
   "outputs": [
    {
     "data": {
      "text/plain": [
       "Gestione     False\n",
       "Tipo Area    False\n",
       "MQ           False\n",
       "dtype: bool"
      ]
     },
     "execution_count": 14,
     "metadata": {},
     "output_type": "execute_result"
    }
   ],
   "source": [
    "#5 Verifica la presenza di \"nan\"\n",
    "data.isna().any()"
   ]
  },
  {
   "cell_type": "code",
   "execution_count": 18,
   "metadata": {
    "scrolled": true
   },
   "outputs": [
    {
     "data": {
      "text/plain": [
       "<AxesSubplot:xlabel='Gestione', ylabel='Count'>"
      ]
     },
     "execution_count": 18,
     "metadata": {},
     "output_type": "execute_result"
    },
    {
     "data": {
      "image/png": "[encoded data removed]",
      "text/plain": [
       "<Figure size 432x288 with 1 Axes>"
      ]
     },
     "metadata": {},
     "output_type": "display_data"
    }
   ],
   "source": [
    "#6 Visualizza plot con dati di almeno 1.000.000 di mq2 di superficie\n",
    "sns.histplot(data=terreni, x=\"Gestione\", binwidth=1, color= \"red\")"
   ]
  },
  {
   "cell_type": "code",
   "execution_count": 24,
   "metadata": {},
   "outputs": [
    {
     "data": {
      "text/plain": [
       "<seaborn.axisgrid.FacetGrid at 0x1ca49731eb0>"
      ]
     },
     "execution_count": 24,
     "metadata": {},
     "output_type": "execute_result"
    },
    {
     "data": {
      "image/png": "[encoded data removed]",
      "text/plain": [
       "<Figure size 216x432 with 2 Axes>"
      ]
     },
     "metadata": {},
     "output_type": "display_data"
    }
   ],
   "source": [
    "#7 Modifica il plot a piacimento\n",
    "g=sns.FacetGrid(terreni, row= \"Gestione\", hue=\"Tipo Area\")\n",
    "g.map(sns.histplot)"
   ]
  },
  {
   "cell_type": "code",
   "execution_count": null,
   "metadata": {},
   "outputs": [],
   "source": []
  }
 ],
 "metadata": {
  "kernelspec": {
   "display_name": "Python 3",
   "language": "python",
   "name": "python3"
  },
  "language_info": {
   "codemirror_mode": {
    "name": "ipython",
    "version": 3
   },
   "file_extension": ".py",
   "mimetype": "text/x-python",
   "name": "python",
   "nbconvert_exporter": "python",
   "pygments_lexer": "ipython3",
   "version": "3.8.5"
  }
 },
 "nbformat": 4,
 "nbformat_minor": 4
}
